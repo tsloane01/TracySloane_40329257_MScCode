{
 "cells": [
  {
   "cell_type": "code",
   "execution_count": 6,
   "id": "ab069ed3-2940-466b-8a8b-04f2ab336cdd",
   "metadata": {},
   "outputs": [
    {
     "name": "stderr",
     "output_type": "stream",
     "text": [
      "🔬 Input data has 9567 cells and 33694 genes\n",
      "🔗 Matching reference genes in the model\n",
      "🧬 3865 features used for prediction\n",
      "⚖️ Scaling input data\n",
      "🖋️ Predicting labels\n",
      "✅ Prediction done!\n",
      "👀 Can not detect a neighborhood graph, will construct one before the over-clustering\n",
      "⛓️ Over-clustering input data with resolution set to 10\n",
      "🗳️ Majority voting the predictions\n",
      "✅ Majority voting done!\n",
      "🔬 Input data has 5889 cells and 33694 genes\n",
      "🔗 Matching reference genes in the model\n",
      "🧬 3865 features used for prediction\n"
     ]
    },
    {
     "name": "stdout",
     "output_type": "stream",
     "text": [
      "Top predictions for epi_clean.h5ad:\n",
      "                              predicted_labels over_clustering  \\\n",
      "GSM3666096_AAACGGGCACCCAGTG-1             ATII               0   \n",
      "GSM3666096_AAAGATGCAACGATCT-1             ATII               2   \n",
      "GSM3666096_AAAGATGTCCCTCTTT-1         Ciliated               3   \n",
      "GSM3666096_AAAGATGTCGCTAGCG-1             ATII               7   \n",
      "GSM3666096_AACCATGCACGTAAGG-1         Ciliated              10   \n",
      "\n",
      "                                   majority_voting  \n",
      "GSM3666096_AAACGGGCACCCAGTG-1  Macrophage_Alveolar  \n",
      "GSM3666096_AAAGATGCAACGATCT-1                 ATII  \n",
      "GSM3666096_AAAGATGTCCCTCTTT-1             Ciliated  \n",
      "GSM3666096_AAAGATGTCGCTAGCG-1                 ATII  \n",
      "GSM3666096_AACCATGCACGTAAGG-1             Ciliated  \n",
      "\n",
      "\n"
     ]
    },
    {
     "name": "stderr",
     "output_type": "stream",
     "text": [
      "⚖️ Scaling input data\n",
      "🖋️ Predicting labels\n",
      "✅ Prediction done!\n",
      "👀 Can not detect a neighborhood graph, will construct one before the over-clustering\n",
      "⛓️ Over-clustering input data with resolution set to 10\n",
      "🗳️ Majority voting the predictions\n",
      "✅ Majority voting done!\n",
      "🔬 Input data has 544 cells and 33694 genes\n",
      "🔗 Matching reference genes in the model\n"
     ]
    },
    {
     "name": "stdout",
     "output_type": "stream",
     "text": [
      "Top predictions for endo_clean.h5ad:\n",
      "                                  predicted_labels over_clustering  \\\n",
      "GSM3666096_AAACCTGTCCAAGCCG-1  Macrophage_Alveolar               0   \n",
      "GSM3666096_AAACGGGTCAACGGGA-1          VE_Arterial               1   \n",
      "GSM3666096_AAAGTAGCACAACGCC-1            VE_Venous               2   \n",
      "GSM3666096_AACGTTGTCCGCGCAA-1            Lymphatic               3   \n",
      "GSM3666096_ACACCAAAGTGTGAAT-1            VE_Venous               5   \n",
      "\n",
      "                                   majority_voting  \n",
      "GSM3666096_AAACCTGTCCAAGCCG-1  Macrophage_Alveolar  \n",
      "GSM3666096_AAACGGGTCAACGGGA-1          VE_Arterial  \n",
      "GSM3666096_AAAGTAGCACAACGCC-1     VE_Peribronchial  \n",
      "GSM3666096_AACGTTGTCCGCGCAA-1            Lymphatic  \n",
      "GSM3666096_ACACCAAAGTGTGAAT-1            VE_Venous  \n",
      "\n",
      "\n"
     ]
    },
    {
     "name": "stderr",
     "output_type": "stream",
     "text": [
      "🧬 3865 features used for prediction\n",
      "⚖️ Scaling input data\n",
      "🖋️ Predicting labels\n",
      "✅ Prediction done!\n",
      "👀 Can not detect a neighborhood graph, will construct one before the over-clustering\n",
      "⛓️ Over-clustering input data with resolution set to 5\n",
      "🗳️ Majority voting the predictions\n",
      "✅ Majority voting done!\n"
     ]
    },
    {
     "name": "stdout",
     "output_type": "stream",
     "text": [
      "Top predictions for fib_clean.h5ad:\n",
      "                                  predicted_labels over_clustering  \\\n",
      "GSM3666096_AGCTTGATCGTAGGTT-1        Myofibroblast               0   \n",
      "GSM3666096_ATCGAGTTCACCGTAA-1  Macrophage_Alveolar               1   \n",
      "GSM3666096_GAGTCCGCAGACGTAG-1           Fibroblast               2   \n",
      "GSM3666096_GTACTTTCAAGTCTAC-1           Fibroblast               3   \n",
      "GSM3666096_GTGAAGGCAGACGCTC-1           Fibroblast               4   \n",
      "\n",
      "                                   majority_voting  \n",
      "GSM3666096_AGCTTGATCGTAGGTT-1        Myofibroblast  \n",
      "GSM3666096_ATCGAGTTCACCGTAA-1           Fibroblast  \n",
      "GSM3666096_GAGTCCGCAGACGTAG-1  Macrophage_Alveolar  \n",
      "GSM3666096_GTACTTTCAAGTCTAC-1           Fibroblast  \n",
      "GSM3666096_GTGAAGGCAGACGCTC-1           Fibroblast  \n",
      "\n",
      "\n"
     ]
    }
   ],
   "source": [
    "import scanpy as sc\n",
    "import celltypist\n",
    "import pandas as pd\n",
    "from scipy.io import mmread\n",
    "\n",
    "# --- EPI ---\n",
    "\n",
    "counts_epi = mmread(\"epi_counts.mtx\").tocsc()\n",
    "genes_epi = pd.read_csv(\"epi_genes.csv\")\n",
    "counts_epi = counts_epi.T\n",
    "cells_epi = pd.read_csv(\"epi_cells.csv\")\n",
    "meta_epi = pd.read_csv(\"epi_metadata.csv\", index_col=0)\n",
    "assert all(meta_epi.index == cells_epi['Cell']), \"Epi: Cell barcodes and metadata rows do not match!\"\n",
    "\n",
    "adata_epi = sc.AnnData(X=counts_epi, obs=meta_epi, var=pd.DataFrame(index=genes_epi['Gene']))\n",
    "print(adata_epi)\n",
    "adata_epi.write(\"epi_clean.h5ad\")\n",
    "\n",
    "# --- ENDO ---\n",
    "\n",
    "counts_endo = mmread(\"endo_counts.mtx\").tocsc()\n",
    "genes_endo = pd.read_csv(\"endo_genes.csv\")\n",
    "counts_endo = counts_endo.T\n",
    "cells_endo = pd.read_csv(\"endo_cells.csv\")\n",
    "meta_endo = pd.read_csv(\"endo_metadata.csv\", index_col=0)\n",
    "assert all(meta_endo.index == cells_endo['Cell']), \"Endo: Cell barcodes and metadata rows do not match!\"\n",
    "\n",
    "adata_endo = sc.AnnData(X=counts_endo, obs=meta_endo, var=pd.DataFrame(index=genes_endo['Gene']))\n",
    "print(adata_endo)\n",
    "adata_endo.write(\"endo_clean.h5ad\")\n",
    "\n",
    "# --- FIB ---\n",
    "\n",
    "counts_fib = mmread(\"fib_counts.mtx\").tocsc()\n",
    "genes_fib = pd.read_csv(\"fib_genes.csv\")\n",
    "counts_fib = counts_fib.T\n",
    "cells_fib = pd.read_csv(\"fib_cells.csv\")\n",
    "meta_fib = pd.read_csv(\"fib_metadata.csv\", index_col=0)\n",
    "assert all(meta_fib.index == cells_fib['Cell']), \"Fib: Cell barcodes and metadata rows do not match!\"\n",
    "\n",
    "adata_fib = sc.AnnData(X=counts_fib, obs=meta_fib, var=pd.DataFrame(index=genes_fib['Gene']))\n",
    "print(adata_fib)\n",
    "adata_fib.write(\"fib_clean.h5ad\")\n",
    "\n",
    "\n",
    "def preprocess_and_annotate(filename, model='Human_IPF_Lung.pkl'):\n",
    "    # Load data\n",
    "    adata = sc.read_h5ad(filename)\n",
    "    \n",
    "    # Normalize total counts per cell to 10,000\n",
    "    sc.pp.normalize_total(adata, target_sum=1e4)\n",
    "    \n",
    "    # Log1p transform\n",
    "    sc.pp.log1p(adata)\n",
    "    \n",
    "    # Annotate using CellTypist\n",
    "    annotation_result = celltypist.annotate(adata, model=model, majority_voting=True)\n",
    "    \n",
    "    print(f\"Top predictions for {filename}:\")\n",
    "    # This is a pandas Series with predicted cell types indexed by cell barcodes\n",
    "    print(annotation_result.predicted_labels.head())\n",
    "    print(\"\\n\")\n",
    "    \n",
    "    return annotation_result\n",
    "\n",
    "# Paths to your AnnData files\n",
    "epi_file = \"epi_clean.h5ad\"\n",
    "endo_file = \"endo_clean.h5ad\"\n",
    "fib_file = \"fib_clean.h5ad\"\n",
    "\n",
    "# Run for each dataset\n",
    "predictions_epi = preprocess_and_annotate(epi_file)\n",
    "predictions_endo = preprocess_and_annotate(endo_file)\n",
    "predictions_fib = preprocess_and_annotate(fib_file)\n",
    "\n",
    "\n",
    "\n"
   ]
  },
  {
   "cell_type": "code",
   "execution_count": 7,
   "id": "e032e265-6fff-4847-b6bc-476359b1795b",
   "metadata": {},
   "outputs": [],
   "source": [
    "# Save predictions as CSV for each dataset\n",
    "predictions_epi.predicted_labels.to_csv(\"epi_predictions.csv\")\n",
    "predictions_endo.predicted_labels.to_csv(\"endo_predictions.csv\")\n",
    "predictions_fib.predicted_labels.to_csv(\"fib_predictions.csv\")\n"
   ]
  },
  {
   "cell_type": "code",
   "execution_count": null,
   "id": "92418f24-91ea-45b2-8b38-62972b19649f",
   "metadata": {},
   "outputs": [],
   "source": []
  }
 ],
 "metadata": {
  "kernelspec": {
   "display_name": "Python [conda env:base] *",
   "language": "python",
   "name": "conda-base-py"
  },
  "language_info": {
   "codemirror_mode": {
    "name": "ipython",
    "version": 3
   },
   "file_extension": ".py",
   "mimetype": "text/x-python",
   "name": "python",
   "nbconvert_exporter": "python",
   "pygments_lexer": "ipython3",
   "version": "3.13.5"
  }
 },
 "nbformat": 4,
 "nbformat_minor": 5
}
